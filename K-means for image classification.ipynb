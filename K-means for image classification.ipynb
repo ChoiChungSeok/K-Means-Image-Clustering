{
 "cells": [
  {
   "cell_type": "markdown",
   "id": "incident-calculator",
   "metadata": {},
   "source": [
    "# Clustering images"
   ]
  },
  {
   "cell_type": "code",
   "execution_count": null,
   "id": "referenced-mattress",
   "metadata": {},
   "outputs": [],
   "source": [
    "import numpy as np\n",
    "import cv2\n",
    "import matplotlib.pyplot as plt\n",
    "from tqdm import tqdm\n",
    "from mpl_toolkits.mplot3d import Axes3D"
   ]
  },
  {
   "cell_type": "code",
   "execution_count": null,
   "id": "working-scene",
   "metadata": {},
   "outputs": [],
   "source": [
    "\n",
    "img = cv2.imread(\"img1.jpg\")/255\n",
    "scale_percent = 50 # percent of original size\n",
    "width = int(img.shape[1] * scale_percent / 100)\n",
    "height = int(img.shape[0] * scale_percent / 100)\n",
    "dim = (width, height)\n",
    "  \n",
    "# resize image\n",
    "resized = cv2.resize(img, dim, interpolation = cv2.INTER_AREA)\n",
    "r, g, b = cv2.split(resized)\n",
    "r = r.flatten()\n",
    "g = g.flatten()\n",
    "b = b.flatten()#plotting \n",
    "fig = plt.figure()\n",
    "ax = Axes3D(fig)\n",
    "ax.scatter(r, g, b)\n",
    "plt.show()"
   ]
  },
  {
   "cell_type": "code",
   "execution_count": null,
   "id": "beautiful-attack",
   "metadata": {},
   "outputs": [],
   "source": [
    "img = resized"
   ]
  },
  {
   "cell_type": "code",
   "execution_count": null,
   "id": "boring-fancy",
   "metadata": {},
   "outputs": [],
   "source": [
    "#convert the MxNx3 image to a Kx3 image where k = MxN\n",
    "vectorised = img.reshape((-1,3))"
   ]
  },
  {
   "cell_type": "code",
   "execution_count": null,
   "id": "previous-debut",
   "metadata": {},
   "outputs": [],
   "source": [
    "from sklearn.cluster import KMeans\n",
    "kmeans = KMeans(n_clusters=5, random_state=0).fit(vectorised)\n",
    "pic2show = kmeans.cluster_centers_[kmeans.labels_]"
   ]
  },
  {
   "cell_type": "code",
   "execution_count": null,
   "id": "first-happiness",
   "metadata": {},
   "outputs": [],
   "source": [
    "cluster_pic = pic2show.reshape(img.shape[0], img.shape[1], img.shape[2])\n",
    "plt.imshow(cluster_pic)"
   ]
  },
  {
   "cell_type": "code",
   "execution_count": null,
   "id": "northern-installation",
   "metadata": {},
   "outputs": [],
   "source": [
    "img_df = pd.DataFrame(vectorised)\n",
    "img_df.rename(columns={0:'R', 1:'G', 2: 'B'}, inplace =True)"
   ]
  },
  {
   "cell_type": "code",
   "execution_count": null,
   "id": "fiscal-jamaica",
   "metadata": {},
   "outputs": [],
   "source": [
    "#taking random centroids for initial tests\n",
    "centroids = img_df.sample(5)"
   ]
  },
  {
   "cell_type": "code",
   "execution_count": null,
   "id": "blond-testing",
   "metadata": {},
   "outputs": [],
   "source": [
    "centroids"
   ]
  },
  {
   "cell_type": "code",
   "execution_count": null,
   "id": "damaged-polyester",
   "metadata": {},
   "outputs": [],
   "source": [
    "X = img_df"
   ]
  },
  {
   "cell_type": "code",
   "execution_count": null,
   "id": "increased-artwork",
   "metadata": {},
   "outputs": [],
   "source": [
    "k = 5\n",
    "diff = 1\n",
    "j=0\n",
    "\n",
    "while(diff!=0):\n",
    "    XD=X\n",
    "    i=1\n",
    "    #iterate over each centroid point \n",
    "    for index1,row_c in centroids.iterrows():\n",
    "        ED=[]\n",
    "        #iterate over each data point\n",
    "        print(\"Calculating distance\")\n",
    "        for index2,row_d in tqdm(XD.iterrows()):\n",
    "            #calculate distance between current point and centroid\n",
    "            d1=(row_c[\"R\"]-row_d[\"R\"])**2\n",
    "            d2=(row_c[\"G\"]-row_d[\"G\"])**2\n",
    "            d3=(row_c[\"B\"]-row_d[\"B\"])**2\n",
    "            d=np.sqrt(d1+d2+d3)\n",
    "            #append disstance in a list 'ED'\n",
    "            ED.append(d)\n",
    "        #append distace for a centroid in original data frame\n",
    "        X[i]=ED\n",
    "        i=i+1\n",
    "\n",
    "    C=[]\n",
    "    print(\"Getting Centroid\")\n",
    "    for index,row in tqdm(X.iterrows()):\n",
    "        #get distance from centroid of current data point\n",
    "        min_dist=row[1]\n",
    "        pos=1\n",
    "        #loop to locate the closest centroid to current point\n",
    "        for i in range(k):\n",
    "            #if current distance is greater than that of other centroids\n",
    "            if row[i+1] < min_dist:\n",
    "                #the smaller distanc becomes the minimum distance \n",
    "                min_dist = row[i+1]\n",
    "                pos=i+1\n",
    "        C.append(pos)\n",
    "    #assigning the closest cluster to each data point\n",
    "    X[\"Cluster\"]=C\n",
    "    #grouping each cluster by their mean value to create new centroids\n",
    "    centroids_new = X.groupby([\"Cluster\"]).mean()[[\"R\",\"G\", \"B\"]]\n",
    "    if j == 0:\n",
    "        diff=1\n",
    "        j=j+1\n",
    "    else:\n",
    "        #check if there is a difference between old and new centroids\n",
    "        diff = (centroids_new['R'] - centroids['R']).sum() + (centroids_new['G'] - centroids['G']).sum() + (centroids_new['B'] - centroids['B']).sum()\n",
    "        print(diff.sum())\n",
    "    centroids = X.groupby([\"Cluster\"]).mean()[[\"R\",\"G\",\"B\"]]"
   ]
  },
  {
   "cell_type": "code",
   "execution_count": null,
   "id": "great-nebraska",
   "metadata": {},
   "outputs": [],
   "source": [
    "centroids = centroids.to_numpy()"
   ]
  },
  {
   "cell_type": "code",
   "execution_count": null,
   "id": "framed-organ",
   "metadata": {},
   "outputs": [],
   "source": [
    "labels = X[\"Cluster\"].to_numpy()\n",
    "segmented_image = centroids[labels-1]\n",
    "segmented_image = segmented_image.reshape(img.shape)"
   ]
  },
  {
   "cell_type": "code",
   "execution_count": null,
   "id": "speaking-eligibility",
   "metadata": {},
   "outputs": [],
   "source": [
    "plt.imshow(segmented_image)"
   ]
  }
 ],
 "metadata": {
  "kernelspec": {
   "display_name": "Python 3",
   "language": "python",
   "name": "python3"
  },
  "language_info": {
   "codemirror_mode": {
    "name": "ipython",
    "version": 3
   },
   "file_extension": ".py",
   "mimetype": "text/x-python",
   "name": "python",
   "nbconvert_exporter": "python",
   "pygments_lexer": "ipython3",
   "version": "3.8.8"
  }
 },
 "nbformat": 4,
 "nbformat_minor": 5
}
